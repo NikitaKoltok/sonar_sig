{
 "cells": [
  {
   "cell_type": "code",
   "execution_count": 1,
   "metadata": {},
   "outputs": [
    {
     "ename": "ModuleNotFoundError",
     "evalue": "No module named 'seaborn'",
     "output_type": "error",
     "traceback": [
      "\u001b[0;31m---------------------------------------------------------------------------\u001b[0m",
      "\u001b[0;31mModuleNotFoundError\u001b[0m                       Traceback (most recent call last)",
      "\u001b[0;32m<ipython-input-1-c04c3044c739>\u001b[0m in \u001b[0;36m<module>\u001b[0;34m\u001b[0m\n\u001b[1;32m      3\u001b[0m \u001b[0;32mimport\u001b[0m \u001b[0mnumpy\u001b[0m \u001b[0;32mas\u001b[0m \u001b[0mnp\u001b[0m\u001b[0;34m\u001b[0m\u001b[0;34m\u001b[0m\u001b[0m\n\u001b[1;32m      4\u001b[0m \u001b[0;32mimport\u001b[0m \u001b[0mmatplotlib\u001b[0m\u001b[0;34m.\u001b[0m\u001b[0mpyplot\u001b[0m \u001b[0;32mas\u001b[0m \u001b[0mplt\u001b[0m\u001b[0;34m\u001b[0m\u001b[0;34m\u001b[0m\u001b[0m\n\u001b[0;32m----> 5\u001b[0;31m \u001b[0;32mimport\u001b[0m \u001b[0mseaborn\u001b[0m \u001b[0;32mas\u001b[0m \u001b[0msns\u001b[0m\u001b[0;34m\u001b[0m\u001b[0;34m\u001b[0m\u001b[0m\n\u001b[0m\u001b[1;32m      6\u001b[0m \u001b[0;34m\u001b[0m\u001b[0m\n\u001b[1;32m      7\u001b[0m \u001b[0;34m\u001b[0m\u001b[0m\n",
      "\u001b[0;31mModuleNotFoundError\u001b[0m: No module named 'seaborn'"
     ]
    }
   ],
   "source": [
    "import pandas as pd\n",
    "import datetime, warnings, scipy \n",
    "import numpy as np\n",
    "import matplotlib.pyplot as plt\n",
    "import seaborn as sns\n",
    "\n",
    "\n",
    "import plotly.offline as py\n",
    "import plotly.figure_factory as ff\n",
    "py.init_notebook_mode(connected=True)\n",
    "import plotly.graph_objs as go\n",
    "from plotly import tools\n",
    "import pylab\n",
    "import gc\n",
    "\n",
    "from sklearn import metrics, linear_model\n",
    "from sklearn.preprocessing import PolynomialFeatures, StandardScaler\n",
    "from sklearn.preprocessing import LabelEncoder, OneHotEncoder\n",
    "from sklearn.model_selection import train_test_split, cross_val_score, cross_val_predict\n",
    "from scipy.optimize import curve_fit\n",
    "from sklearn.model_selection import train_test_split\n",
    "\n",
    "from catboost import CatBoostClassifier\n",
    "from sklearn.model_selection import GridSearchCV\n",
    "\n",
    "from create_data import create_dataframe\n",
    "\n",
    "import warnings\n",
    "warnings.filterwarnings('ignore')"
   ]
  },
  {
   "cell_type": "code",
   "execution_count": null,
   "metadata": {
    "scrolled": true
   },
   "outputs": [],
   "source": [
    "df = create_dataframe()\n",
    "\n",
    "columns = ['Distance', 'RCS', '1_angle', '2_angle']\n",
    "for col in columns:\n",
    "    df[col] = df[col].map(lambda elem: np.float(elem))\n",
    "# df['RCS'] = np.log(df['RCS'])"
   ]
  },
  {
   "cell_type": "markdown",
   "metadata": {},
   "source": [
    "### Catboost "
   ]
  },
  {
   "cell_type": "code",
   "execution_count": null,
   "metadata": {},
   "outputs": [],
   "source": [
    "df.Id_class.unique()"
   ]
  },
  {
   "cell_type": "code",
   "execution_count": null,
   "metadata": {},
   "outputs": [],
   "source": [
    "# пары признаков\n",
    "\n",
    "X = df[['Distance', 'RCS']]\n",
    "Y = df['Id_class']\n",
    "\n",
    "x_train, x_test, y_train, y_test = train_test_split(X, Y, test_size=0.3, \n",
    "                                                    random_state=42)"
   ]
  },
  {
   "cell_type": "code",
   "execution_count": null,
   "metadata": {},
   "outputs": [],
   "source": [
    "# последовательность ЭПР как фича\n",
    "\n",
    "rcs_data = df.RCS.values\n",
    "rcs_data = np.array([rcs_data[idx:idx+50] for idx in range(len(rcs_data)//50)])\n",
    "\n",
    "id_data = df.Id_class.values\n",
    "id_data = np.array([id_data[idx] for idx in range(0, len(df), 50)])\n",
    "\n",
    "rcs_df = pd.DataFrame(rcs_data)\n",
    "id_df = pd.DataFrame(id_data)\n",
    "\n",
    "x_train, x_test, y_train, y_test = train_test_split(rcs_data, id_data, test_size=0.2, \n",
    "                                                    random_state=42)"
   ]
  },
  {
   "cell_type": "code",
   "execution_count": null,
   "metadata": {},
   "outputs": [],
   "source": [
    "print(x_train.shape, y_train.shape, x_test.shape, y_test.shape)"
   ]
  },
  {
   "cell_type": "code",
   "execution_count": null,
   "metadata": {
    "scrolled": true
   },
   "outputs": [],
   "source": [
    "params = {\n",
    "    'iterations': 20000,\n",
    "    'bagging_temperature': 0.2,\n",
    "    'border_count': 200,\n",
    "    'random_strength': 0.05,\n",
    "    'learning_rate': 0.01,\n",
    "    'od_wait': 500,\n",
    "    'eval_metric': 'Accuracy', \n",
    "    'loss_function': 'MultiClass', \n",
    "    'random_seed': 42,         \n",
    "    'od_type': 'Iter',\n",
    "    'l2_leaf_reg': 7,\n",
    "    'depth': 10,\n",
    "    'task_type': 'CPU',\n",
    "    'snapshot_file': '../output/catboost',\n",
    "#     'grow_policy': 'Depthwise',\n",
    "    'has_time': True,\n",
    "    \n",
    "}\n",
    "\n",
    "cbc = CatBoostClassifier(**params)"
   ]
  },
  {
   "cell_type": "markdown",
   "metadata": {},
   "source": [
    "### GridSearch"
   ]
  },
  {
   "cell_type": "code",
   "execution_count": null,
   "metadata": {},
   "outputs": [],
   "source": [
    "grid_params = {\n",
    "        'depth': [3, 5, 7, 11],\n",
    "        'learning_rate': [0.01, 0.001, 0.0001]\n",
    "}\n",
    "\n",
    "gs = GridSearchCV(cbr, param_grid=grid_params, \n",
    "                  cv=3, \n",
    "                  n_jobs=3, \n",
    "                  scoring='neg_mean_squared_error',\n",
    "                  verbose=0)\n",
    "gs.fit(x_train, y_train)\n",
    "print(gs.best_params_)"
   ]
  },
  {
   "cell_type": "markdown",
   "metadata": {},
   "source": [
    "### Main train cat "
   ]
  },
  {
   "cell_type": "code",
   "execution_count": null,
   "metadata": {},
   "outputs": [],
   "source": [
    "cbc = cbc.fit(x_train, y_train, eval_set=(x_test, y_test),\n",
    "        use_best_model=True,\n",
    "        plot=True,\n",
    "        verbose_eval=False)"
   ]
  },
  {
   "cell_type": "code",
   "execution_count": null,
   "metadata": {},
   "outputs": [],
   "source": [
    "cb_pred = cbc.predict(x_test)\n",
    "\n",
    "f1_score = metrics.f1_score(cb_pred, y_test)\n",
    "print(f1_score)"
   ]
  },
  {
   "cell_type": "code",
   "execution_count": null,
   "metadata": {},
   "outputs": [],
   "source": []
  },
  {
   "cell_type": "code",
   "execution_count": null,
   "metadata": {},
   "outputs": [],
   "source": []
  },
  {
   "cell_type": "markdown",
   "metadata": {},
   "source": [
    "### RNN "
   ]
  },
  {
   "cell_type": "code",
   "execution_count": 3,
   "metadata": {},
   "outputs": [
    {
     "name": "stderr",
     "output_type": "stream",
     "text": [
      "Using TensorFlow backend.\n"
     ]
    }
   ],
   "source": [
    "import keras\n",
    "from keras.utils import to_categorical\n",
    "from keras.models import Model\n",
    "\n",
    "from keras.models import Sequential \n",
    "from keras.layers import (\n",
    "    Dense, \n",
    "    Flatten, \n",
    "    Activation, \n",
    "    Conv2D, \n",
    "    MaxPooling2D, \n",
    "    Dropout, \n",
    "    BatchNormalization, \n",
    "    Bidirectional,\n",
    "    ConvLSTM2D,\n",
    "    LeakyReLU,\n",
    "    MaxPooling1D,\n",
    "    Conv1D,\n",
    "    GRU, \n",
    "    SimpleRNN,\n",
    "    LSTM,\n",
    "    Dropout,\n",
    "    Reshape,\n",
    "    Input\n",
    ")\n",
    "from keras.utils import np_utils\n",
    "from keras.optimizers import Adam\n",
    "\n",
    "from sklearn.feature_extraction import FeatureHasher\n",
    "\n",
    "import keras.backend as K\n",
    "from keras.optimizers import Adam\n",
    "from keras.losses import binary_crossentropy\n",
    "from keras.callbacks import ModelCheckpoint, LearningRateScheduler, EarlyStopping, ReduceLROnPlateau"
   ]
  },
  {
   "cell_type": "markdown",
   "metadata": {},
   "source": [
    "### Read all data "
   ]
  },
  {
   "cell_type": "code",
   "execution_count": 3,
   "metadata": {},
   "outputs": [
    {
     "name": "stderr",
     "output_type": "stream",
     "text": [
      "Tomahawk_BGM: 272801it [00:00, 553703.92it/s]\n"
     ]
    },
    {
     "name": "stdout",
     "output_type": "stream",
     "text": [
      "Data shape: (270100, 5)\n"
     ]
    },
    {
     "name": "stderr",
     "output_type": "stream",
     "text": [
      "F35A: 272801it [00:00, 542686.66it/s]\n"
     ]
    },
    {
     "name": "stdout",
     "output_type": "stream",
     "text": [
      "Data shape: (270100, 5)\n"
     ]
    },
    {
     "name": "stderr",
     "output_type": "stream",
     "text": [
      "F22_raptor: 270100it [00:00, 499897.85it/s]\n"
     ]
    },
    {
     "name": "stdout",
     "output_type": "stream",
     "text": [
      "Data shape: (270100, 3)\n"
     ]
    },
    {
     "name": "stderr",
     "output_type": "stream",
     "text": [
      "Harpoon: 270100it [00:00, 560283.52it/s]\n"
     ]
    },
    {
     "name": "stdout",
     "output_type": "stream",
     "text": [
      "Data shape: (270100, 3)\n"
     ]
    },
    {
     "name": "stderr",
     "output_type": "stream",
     "text": [
      "AH-1Cobra: 272801it [00:00, 543765.98it/s]\n"
     ]
    },
    {
     "name": "stdout",
     "output_type": "stream",
     "text": [
      "Data shape: (270100, 5)\n"
     ]
    },
    {
     "name": "stderr",
     "output_type": "stream",
     "text": [
      "aerob: 272801it [00:00, 541404.03it/s]\n"
     ]
    },
    {
     "name": "stdout",
     "output_type": "stream",
     "text": [
      "Data shape: (270100, 5)\n"
     ]
    },
    {
     "name": "stderr",
     "output_type": "stream",
     "text": [
      "Jassm: 272801it [00:00, 545969.34it/s]\n"
     ]
    },
    {
     "name": "stdout",
     "output_type": "stream",
     "text": [
      "Data shape: (270100, 5)\n"
     ]
    },
    {
     "name": "stderr",
     "output_type": "stream",
     "text": [
      "Eurofightertyphoon: 272801it [00:00, 486277.44it/s]\n"
     ]
    },
    {
     "name": "stdout",
     "output_type": "stream",
     "text": [
      "Data shape: (270100, 5)\n"
     ]
    },
    {
     "name": "stderr",
     "output_type": "stream",
     "text": [
      "ExocetAM39: 272801it [00:00, 540575.81it/s]\n"
     ]
    },
    {
     "name": "stdout",
     "output_type": "stream",
     "text": [
      "Data shape: (270100, 5)\n"
     ]
    },
    {
     "name": "stderr",
     "output_type": "stream",
     "text": [
      "dassaultrafale: 272801it [00:00, 536306.44it/s]\n"
     ]
    },
    {
     "name": "stdout",
     "output_type": "stream",
     "text": [
      "Data shape: (270100, 5)\n"
     ]
    },
    {
     "name": "stderr",
     "output_type": "stream",
     "text": [
      "F16: 272801it [00:00, 544849.09it/s]\n"
     ]
    },
    {
     "name": "stdout",
     "output_type": "stream",
     "text": [
      "Data shape: (270100, 5)\n"
     ]
    },
    {
     "name": "stderr",
     "output_type": "stream",
     "text": [
      "AH-1WSuperCobra: 270100it [00:00, 506605.57it/s]\n"
     ]
    },
    {
     "name": "stdout",
     "output_type": "stream",
     "text": [
      "Data shape: (270100, 3)\n"
     ]
    },
    {
     "name": "stderr",
     "output_type": "stream",
     "text": [
      "Mig29: 270100it [00:00, 562585.92it/s]\n"
     ]
    },
    {
     "name": "stdout",
     "output_type": "stream",
     "text": [
      "Data shape: (270100, 3)\n"
     ]
    },
    {
     "name": "stderr",
     "output_type": "stream",
     "text": [
      "orlan: 267650it [00:00, 536755.82it/s]\n"
     ]
    },
    {
     "name": "stdout",
     "output_type": "stream",
     "text": [
      "Data shape: (265000, 5)\n"
     ]
    }
   ],
   "source": [
    "df = create_dataframe()\n",
    "\n",
    "columns = ['Distance', 'RCS', '1_angle', '2_angle']\n",
    "for col in columns:\n",
    "    df[col] = df[col].map(lambda elem: np.float(elem))"
   ]
  },
  {
   "cell_type": "markdown",
   "metadata": {},
   "source": [
    "### Create train/val dataset "
   ]
  },
  {
   "cell_type": "code",
   "execution_count": 13,
   "metadata": {},
   "outputs": [
    {
     "name": "stdout",
     "output_type": "stream",
     "text": [
      "(2701, 100, 1) (2701,)\n",
      "(2701, 100, 1) (2701,)\n",
      "(2701, 100, 1) (2701,)\n",
      "(2701, 100, 1) (2701,)\n",
      "(2701, 100, 1) (2701,)\n",
      "(2701, 100, 1) (2701,)\n",
      "(2701, 100, 1) (2701,)\n",
      "(2701, 100, 1) (2701,)\n",
      "(2701, 100, 1) (2701,)\n",
      "(2701, 100, 1) (2701,)\n",
      "(2701, 100, 1) (2701,)\n",
      "(2701, 100, 1) (2701,)\n",
      "(2701, 100, 1) (2701,)\n",
      "(2650, 100, 1) (2650,)\n",
      "(37763, 100, 1) (37763,) (37763, 14)\n"
     ]
    }
   ],
   "source": [
    "# соеденить несколько ракурсов ДП в один портрет\n",
    "\n",
    "cat_num = 1  # ДП в стаке\n",
    "\n",
    "# инициализация\n",
    "all_rcs_data = None\n",
    "all_id_data = None\n",
    "\n",
    "for id_class in np.unique(df.Id_class):\n",
    "    df_class = df[df.Id_class == id_class]\n",
    "    \n",
    "    rcs_data = df_class.RCS.values\n",
    "    rcs_data = np.array([rcs_data[idx:idx+100] for idx in range(len(rcs_data)//100)])\n",
    "\n",
    "    cat_rcs_stack = [np.hstack([rcs_data[i:i+cat_num]]).reshape(-1, cat_num) for i in range(rcs_data.shape[0]-cat_num+1)]\n",
    "    cat_rcs_stack = np.array(cat_rcs_stack)\n",
    "    \n",
    "    cat_id_rcs = np.array([id_class] * cat_rcs_stack.shape[0])\n",
    "    \n",
    "    print(cat_rcs_stack.shape, cat_id_rcs.shape)\n",
    "    \n",
    "    if id_class == 0:\n",
    "        all_rcs_data = cat_rcs_stack\n",
    "        all_id_data = cat_id_rcs\n",
    "        continue\n",
    "    all_id_data = np.hstack([all_id_data, cat_id_rcs])\n",
    "    all_rcs_data = np.vstack([all_rcs_data, cat_rcs_stack])\n",
    "\n",
    "all_id_data_binary = to_categorical(all_id_data)\n",
    "print(all_rcs_data.shape, all_id_data.shape, all_id_data_binary.shape)"
   ]
  },
  {
   "cell_type": "code",
   "execution_count": 14,
   "metadata": {},
   "outputs": [
    {
     "name": "stdout",
     "output_type": "stream",
     "text": [
      "(30210, 100, 1) (30210, 14) (7553, 100, 1) (7553, 14)\n"
     ]
    }
   ],
   "source": [
    "x_train, x_test, y_train, y_test = train_test_split(all_rcs_data, all_id_data_binary, \n",
    "                                                    test_size=0.2,\n",
    "                                                    random_state=42)\n",
    "# определить тип данных для свертки\n",
    "is_conv2d_format = False\n",
    "if cat_num != 1:\n",
    "    is_conv2d_format = True\n",
    "    \n",
    "if is_conv2d_format:\n",
    "    x_train = x_train.reshape((x_train.shape[0],\n",
    "                              x_train.shape[1],\n",
    "                              x_train.shape[2],\n",
    "                              1))\n",
    "\n",
    "    x_test = x_test.reshape((x_test.shape[0],\n",
    "                             x_test.shape[1],\n",
    "                             x_test.shape[2],\n",
    "                            1))\n",
    "\n",
    "    \n",
    "print(x_train.shape, y_train.shape, x_test.shape, y_test.shape)"
   ]
  },
  {
   "cell_type": "markdown",
   "metadata": {},
   "source": [
    "### Prepeare  model"
   ]
  },
  {
   "cell_type": "code",
   "execution_count": 15,
   "metadata": {
    "scrolled": true
   },
   "outputs": [],
   "source": [
    "# Bi-LSTM\n",
    "\n",
    "bi_lstm_model = Sequential()\n",
    "bi_lstm_model.add(Bidirectional(LSTM(128, return_sequences=True, \n",
    "                             dropout=0.2, \n",
    "#                              activation='relu',\n",
    "                             input_shape=(x_train.shape[1], x_train.shape[2]))))\n",
    "# bi_lstm_model.add(Bidirectional(LSTM(256, dropout=0.2, return_sequences=True)))\n",
    "bi_lstm_model.add(Bidirectional(LSTM(256, dropout=0.2, return_sequences=True)))\n",
    "bi_lstm_model.add(Bidirectional(LSTM(256, dropout=0.2, \n",
    "#                              activation='relu',\n",
    "                            )))\n",
    "bi_lstm_model.add(Dense(512, activation=LeakyReLU(alpha=0.1)))\n",
    "bi_lstm_model.add(Dense(y_train.shape[1], activation='softmax'))\n",
    "\n",
    "optimizer = keras.optimizers.RMSprop(lr=1e-3, decay=1e-4)\n",
    "bi_lstm_model.compile(loss='categorical_crossentropy', optimizer=optimizer, metrics=['accuracy'])"
   ]
  },
  {
   "cell_type": "code",
   "execution_count": 16,
   "metadata": {},
   "outputs": [
    {
     "ename": "ValueError",
     "evalue": "This model has not yet been built. Build the model first by calling build() or calling fit() with some data. Or specify input_shape or batch_input_shape in the first layer for automatic build. ",
     "output_type": "error",
     "traceback": [
      "\u001b[1;31m---------------------------------------------------------------------------\u001b[0m",
      "\u001b[1;31mValueError\u001b[0m                                Traceback (most recent call last)",
      "\u001b[1;32m<ipython-input-16-e383ea20ddef>\u001b[0m in \u001b[0;36m<module>\u001b[1;34m\u001b[0m\n\u001b[1;32m----> 1\u001b[1;33m \u001b[0mbi_lstm_model\u001b[0m\u001b[1;33m.\u001b[0m\u001b[0msummary\u001b[0m\u001b[1;33m(\u001b[0m\u001b[1;33m)\u001b[0m\u001b[1;33m\u001b[0m\u001b[1;33m\u001b[0m\u001b[0m\n\u001b[0m",
      "\u001b[1;32mC:\\Anaconda\\envs\\keras\\lib\\site-packages\\keras\\engine\\network.py\u001b[0m in \u001b[0;36msummary\u001b[1;34m(self, line_length, positions, print_fn)\u001b[0m\n\u001b[0;32m   1250\u001b[0m         \u001b[1;32mif\u001b[0m \u001b[1;32mnot\u001b[0m \u001b[0mself\u001b[0m\u001b[1;33m.\u001b[0m\u001b[0mbuilt\u001b[0m\u001b[1;33m:\u001b[0m\u001b[1;33m\u001b[0m\u001b[1;33m\u001b[0m\u001b[0m\n\u001b[0;32m   1251\u001b[0m             raise ValueError(\n\u001b[1;32m-> 1252\u001b[1;33m                 \u001b[1;34m'This model has not yet been built. '\u001b[0m\u001b[1;33m\u001b[0m\u001b[1;33m\u001b[0m\u001b[0m\n\u001b[0m\u001b[0;32m   1253\u001b[0m                 \u001b[1;34m'Build the model first by calling build() '\u001b[0m\u001b[1;33m\u001b[0m\u001b[1;33m\u001b[0m\u001b[0m\n\u001b[0;32m   1254\u001b[0m                 \u001b[1;34m'or calling fit() with some data. '\u001b[0m\u001b[1;33m\u001b[0m\u001b[1;33m\u001b[0m\u001b[0m\n",
      "\u001b[1;31mValueError\u001b[0m: This model has not yet been built. Build the model first by calling build() or calling fit() with some data. Or specify input_shape or batch_input_shape in the first layer for automatic build. "
     ]
    }
   ],
   "source": [
    "bi_lstm_model.summary()"
   ]
  },
  {
   "cell_type": "code",
   "execution_count": 187,
   "metadata": {},
   "outputs": [],
   "source": [
    "# CONV1D LSTM\n",
    "\n",
    "def inception_module_1D(x,\n",
    "                        filters_1x1,\n",
    "                        filters_3x3_reduce,\n",
    "                        filters_3x3,\n",
    "                        filters_5x5_reduce,\n",
    "                        filters_5x5,\n",
    "                        filters_pool_proj,\n",
    "                        name=None):\n",
    "\n",
    "    tower_1_x1 = Conv1D(filters=filters_1x1, kernel_size=1, padding='same', activation='relu')(x)\n",
    "\n",
    "    tower_2_x3 = Conv1D(filters=filters_3x3_reduce, kernel_size=3, padding='same', activation='relu')(x)\n",
    "    tower_2_x3 = Conv1D(filters=filters_3x3, kernel_size=3, padding='same', activation='relu')(tower_2_x3)\n",
    "    \n",
    "    tower_3_x5 = Conv1D(filters=filters_5x5_reduce, kernel_size=5, padding='same', activation='relu')(x)\n",
    "    tower_3_x5 = Conv1D(filters=filters_5x5, kernel_size=5, padding='same', activation='relu')(tower_3_x5)\n",
    "\n",
    "    tower_4_pool = MaxPooling1D(pool_size=3, strides=1, padding='same')(x)\n",
    "    tower_4_pool = Conv1D(filters=filters_pool_proj, kernel_size=1, padding='same', activation='relu')(tower_4_pool)\n",
    "\n",
    "    inc_tower = keras.layers.concatenate([tower_1_x1, \n",
    "                                          tower_2_x3, \n",
    "                                          tower_3_x5, \n",
    "                                          tower_4_pool], axis=2, name=name)\n",
    "    \n",
    "    return inc_tower\n",
    "\n",
    "input_layer = Input(shape=(x_train.shape[1], x_train.shape[2]))\n",
    "\n",
    "x = input_layer\n",
    "x = inception_module(x, 100, 16, 32, 32, 64, 64, name='inception_1a')\n",
    "x = GRU(32, dropout=0.2)(x)\n",
    "x = Dense(y_train.shape[1], activation='softmax')(x)\n",
    "\n",
    "conv1d_model = Model(input_layer, x, name='sar_v1')\n",
    "\n",
    "optimizer = keras.optimizers.RMSprop(lr=1e-2, decay=1e-5)\n",
    "conv1d_model.compile(loss='categorical_crossentropy', optimizer=optimizer, metrics=['accuracy'])"
   ]
  },
  {
   "cell_type": "code",
   "execution_count": 188,
   "metadata": {
    "scrolled": true
   },
   "outputs": [
    {
     "name": "stdout",
     "output_type": "stream",
     "text": [
      "__________________________________________________________________________________________________\n",
      "Layer (type)                    Output Shape         Param #     Connected to                     \n",
      "==================================================================================================\n",
      "input_41 (InputLayer)           (None, 100, 1)       0                                            \n",
      "__________________________________________________________________________________________________\n",
      "conv1d_221 (Conv1D)             (None, 100, 16)      64          input_41[0][0]                   \n",
      "__________________________________________________________________________________________________\n",
      "conv1d_223 (Conv1D)             (None, 100, 32)      192         input_41[0][0]                   \n",
      "__________________________________________________________________________________________________\n",
      "max_pooling1d_43 (MaxPooling1D) (None, 100, 1)       0           input_41[0][0]                   \n",
      "__________________________________________________________________________________________________\n",
      "conv1d_220 (Conv1D)             (None, 100, 100)     200         input_41[0][0]                   \n",
      "__________________________________________________________________________________________________\n",
      "conv1d_222 (Conv1D)             (None, 100, 32)      1568        conv1d_221[0][0]                 \n",
      "__________________________________________________________________________________________________\n",
      "conv1d_224 (Conv1D)             (None, 100, 64)      10304       conv1d_223[0][0]                 \n",
      "__________________________________________________________________________________________________\n",
      "conv1d_225 (Conv1D)             (None, 100, 64)      128         max_pooling1d_43[0][0]           \n",
      "__________________________________________________________________________________________________\n",
      "concatenate_40 (Concatenate)    (None, 100, 260)     0           conv1d_220[0][0]                 \n",
      "                                                                 conv1d_222[0][0]                 \n",
      "                                                                 conv1d_224[0][0]                 \n",
      "                                                                 conv1d_225[0][0]                 \n",
      "__________________________________________________________________________________________________\n",
      "gru_7 (GRU)                     (None, 32)           28128       concatenate_40[0][0]             \n",
      "__________________________________________________________________________________________________\n",
      "dense_27 (Dense)                (None, 14)           462         gru_7[0][0]                      \n",
      "==================================================================================================\n",
      "Total params: 41,046\n",
      "Trainable params: 41,046\n",
      "Non-trainable params: 0\n",
      "__________________________________________________________________________________________________\n"
     ]
    }
   ],
   "source": [
    "conv1d_model.summary()"
   ]
  },
  {
   "cell_type": "code",
   "execution_count": 22,
   "metadata": {},
   "outputs": [
    {
     "name": "stdout",
     "output_type": "stream",
     "text": [
      "_________________________________________________________________\n",
      "Layer (type)                 Output Shape              Param #   \n",
      "=================================================================\n",
      "conv2d_2 (Conv2D)            (None, 100, 3, 10)        310       \n",
      "_________________________________________________________________\n",
      "max_pooling2d_2 (MaxPooling2 (None, 25, 1, 10)         0         \n",
      "_________________________________________________________________\n",
      "reshape_2 (Reshape)          (None, 25, 10)            0         \n",
      "_________________________________________________________________\n",
      "gru_5 (GRU)                  (None, 128)               53376     \n",
      "_________________________________________________________________\n",
      "dense_11 (Dense)             (None, 8)                 1032      \n",
      "=================================================================\n",
      "Total params: 54,718\n",
      "Trainable params: 54,718\n",
      "Non-trainable params: 0\n",
      "_________________________________________________________________\n"
     ]
    }
   ],
   "source": [
    "# CONV2D LSTM\n",
    "\n",
    "conv2d_model = Sequential()\n",
    "conv2d_model.add(Conv2D(filters=10, kernel_size=(10, 3),\n",
    "                        padding='same',\n",
    "                        activation=LeakyReLU(alpha=0.1),\n",
    "                        input_shape=(100, 3, 1)))\n",
    "conv2d_model.add(MaxPooling2D(pool_size=(4, 3)))\n",
    "conv2d_model.add(Reshape((25, 10)))\n",
    "conv2d_model.add(GRU(128, dropout=0.2))\n",
    "\n",
    "conv2d_model.add(Dense(y_train.shape[1], activation='softmax'))\n",
    "\n",
    "optimizer = keras.optimizers.RMSprop(lr=1e-3, decay=1e-4)\n",
    "conv2d_model.compile(loss='categorical_crossentropy', optimizer=optimizer, metrics=['accuracy'])\n",
    "\n",
    "conv2d_model.summary()"
   ]
  },
  {
   "cell_type": "code",
   "execution_count": 189,
   "metadata": {},
   "outputs": [
    {
     "data": {
      "text/plain": [
       "110917"
      ]
     },
     "execution_count": 189,
     "metadata": {},
     "output_type": "execute_result"
    }
   ],
   "source": [
    "import keras.backend as K\n",
    "from keras.optimizers import Adam\n",
    "from keras.losses import binary_crossentropy\n",
    "from keras.callbacks import ModelCheckpoint, LearningRateScheduler, EarlyStopping, ReduceLROnPlateau\n",
    "\n",
    "model = conv1d_model\n",
    "\n",
    "weight_path = f\"../output/{model.name}.h5\"\n",
    "checkpoint = ModelCheckpoint(weight_path, monitor='val_acc', verbose=1, \n",
    "                             save_best_only=True, mode='max', save_weights_only=True)\n",
    "\n",
    "schedule = ReduceLROnPlateau(monitor='val_loss', factor=0.5,\n",
    "                             patience=5, min_lr=1e-6, verbose=1)\n",
    "\n",
    "\n",
    "callbacks_list = [\n",
    "    checkpoint, \n",
    "    schedule]\n",
    "\n",
    "gc.collect()"
   ]
  },
  {
   "cell_type": "code",
   "execution_count": null,
   "metadata": {
    "scrolled": true
   },
   "outputs": [
    {
     "name": "stdout",
     "output_type": "stream",
     "text": [
      "Train on 30210 samples, validate on 7553 samples\n",
      "Epoch 1/100\n",
      " - 58s - loss: 2.1288 - acc: 0.2443 - val_loss: 1.8889 - val_acc: 0.3609\n",
      "\n",
      "Epoch 00001: val_acc improved from -inf to 0.36092, saving model to ../output/sar_v1.h5\n",
      "Epoch 2/100\n",
      " - 56s - loss: 1.7585 - acc: 0.3854 - val_loss: 1.7395 - val_acc: 0.3853\n",
      "\n",
      "Epoch 00002: val_acc improved from 0.36092 to 0.38528, saving model to ../output/sar_v1.h5\n",
      "Epoch 3/100\n",
      " - 56s - loss: 1.4747 - acc: 0.4845 - val_loss: 1.2543 - val_acc: 0.5606\n",
      "\n",
      "Epoch 00003: val_acc improved from 0.38528 to 0.56057, saving model to ../output/sar_v1.h5\n",
      "Epoch 4/100\n"
     ]
    }
   ],
   "source": [
    "train_hist = model.fit(x_train, y_train, \n",
    "          validation_data=(x_test, y_test),\n",
    "          batch_size=64,\n",
    "          epochs=100,\n",
    "          callbacks=callbacks_list,\n",
    "          verbose=2,\n",
    "         )\n",
    "\n",
    "# batch_size = 128\n",
    "# train_gen = make_gen((x_train, y_train), batch_size=batch_size)\n",
    "# val_gen = make_gen((x_test, y_test), batch_size=batch_size)\n",
    "\n",
    "# history = model.fit_generator(train_gen, \n",
    "#                               epochs=100, \n",
    "#                               steps_per_epoch=100,\n",
    "#                               validation_data=val_gen,\n",
    "#                               validation_steps=30,\n",
    "#                               callbacks=callbacks_list,\n",
    "#                               workers=5,\n",
    "#                               verbose=1)"
   ]
  },
  {
   "cell_type": "code",
   "execution_count": 156,
   "metadata": {},
   "outputs": [
    {
     "name": "stdout",
     "output_type": "stream",
     "text": [
      "0.8722614730425043\n"
     ]
    }
   ],
   "source": [
    "x_pred = model.predict(x_test)\n",
    "\n",
    "f1_score = metrics.f1_score(x_pred.argmax(1), y_test.argmax(1), average='weighted')\n",
    "print(f1_score)"
   ]
  },
  {
   "cell_type": "markdown",
   "metadata": {},
   "source": [
    "## 4pres\n"
   ]
  },
  {
   "cell_type": "code",
   "execution_count": 83,
   "metadata": {},
   "outputs": [],
   "source": [
    "import numpy as np\n",
    "import matplotlib.pyplot as plt\n",
    "import itertools\n",
    "import pylab\n",
    "\n",
    "%matplotlib inline"
   ]
  },
  {
   "cell_type": "code",
   "execution_count": 186,
   "metadata": {
    "scrolled": false
   },
   "outputs": [
    {
     "data": {
      "text/plain": [
       "<Figure size 432x288 with 0 Axes>"
      ]
     },
     "metadata": {},
     "output_type": "display_data"
    },
    {
     "data": {
      "image/png": "[encoded data removed]",
      "text/plain": [
       "<Figure size 864x576 with 1 Axes>"
      ]
     },
     "metadata": {
      "needs_background": "light"
     },
     "output_type": "display_data"
    }
   ],
   "source": [
    "plt.rcParams.update({'font.size': 15})\n",
    "plt.rcParams[\"font.family\"] = \"Times New Roman\"\n",
    "\n",
    "colors_1 = plt.cm.Blues(np.linspace(0.3, 0.6 , 2))\n",
    "colors_2 = plt.cm.Reds(np.linspace(0.3, 0.6 , 2))\n",
    "\n",
    "pylab.figure(1)\n",
    "pylab.figure(figsize=(12, 8))\n",
    "pylab.xlabel('Порядковый номер эпохи обучения', size=19)\n",
    "x = np.array(range(1, len(train_hist.history['acc']) + 1))\n",
    "# pylab.xticks(x)\n",
    "pylab.ylabel('Точность', size=19)\n",
    "pylab.grid()\n",
    "pylab.ylim(.21, 2.2)\n",
    "# ax.tick_params(axis='both', which='major', labelsize=100)\n",
    "\n",
    "pylab.plot(x, train_hist.history['loss'], color=colors_2[0], marker='*', linewidth=3, markersize=12)\n",
    "pylab.plot(x, train_hist.history['val_loss'], color=colors_2[1], marker='^', linewidth=3, markersize=12)\n",
    "\n",
    "pylab.legend(['Ошибка на тренировке', 'Ошибка на валидации'], loc='upper right', prop={'size': 19})\n",
    "    \n",
    "# plt.savefig(f'../output/train_loss_acc_{model.name}.png', dpi=200)\n",
    "plt.show();"
   ]
  },
  {
   "cell_type": "code",
   "execution_count": 183,
   "metadata": {},
   "outputs": [
    {
     "data": {
      "text/plain": [
       "<Figure size 432x288 with 0 Axes>"
      ]
     },
     "metadata": {},
     "output_type": "display_data"
    },
    {
     "data": {
      "image/png": "[encoded data removed]",
      "text/plain": [
       "<Figure size 864x576 with 1 Axes>"
      ]
     },
     "metadata": {
      "needs_background": "light"
     },
     "output_type": "display_data"
    }
   ],
   "source": [
    "plt.rcParams.update({'font.size': 15})\n",
    "plt.rcParams[\"font.family\"] = \"Times New Roman\"\n",
    "\n",
    "colors_1 = plt.cm.Blues(np.linspace(0.3, 0.6 , 2))\n",
    "colors_2 = plt.cm.Reds(np.linspace(0.3, 0.6 , 2))\n",
    "\n",
    "pylab.figure(1)\n",
    "pylab.figure(figsize=(12, 8))\n",
    "pylab.xlabel('Порядковый номер эпохи обучения', size=19)\n",
    "x = np.array(range(1, len(train_hist.history['acc']) + 1))\n",
    "# pylab.xticks(x)\n",
    "pylab.ylabel('Точность', size=19)\n",
    "pylab.grid()\n",
    "pylab.ylim(.24, 0.97)\n",
    "# ax.tick_params(axis='both', which='major', labelsize=100)\n",
    "\n",
    "pylab.plot(x, train_hist.history['acc'], color=colors_1[0], marker='*', linewidth=3, markersize=12)\n",
    "pylab.plot(x, train_hist.history['val_acc'], color=colors_1[1], marker='^', linewidth=3, markersize=12)\n",
    "\n",
    "pylab.legend(['Точность на тренировке', 'Точность на валидации'], loc='lower right', prop={'size': 19})\n",
    "    \n",
    "# plt.savefig(f'../output/train_loss_acc_{model.name}.png', dpi=200)\n",
    "plt.show();"
   ]
  },
  {
   "cell_type": "markdown",
   "metadata": {},
   "source": [
    "### Final results 4pres "
   ]
  },
  {
   "cell_type": "code",
   "execution_count": 19,
   "metadata": {},
   "outputs": [
    {
     "name": "stdout",
     "output_type": "stream",
     "text": [
      "Model name 0.7024000000000001\n",
      "Model name 0.581\n"
     ]
    },
    {
     "data": {
      "text/plain": [
       "<Figure size 432x288 with 0 Axes>"
      ]
     },
     "metadata": {},
     "output_type": "display_data"
    },
    {
     "data": {
      "image/png": "[encoded data removed]",
      "text/plain": [
       "<Figure size 864x576 with 1 Axes>"
      ]
     },
     "metadata": {
      "needs_background": "light"
     },
     "output_type": "display_data"
    }
   ],
   "source": [
    "x = np.array([1, 2, 3, 4, 5])\n",
    "models_name = {'ОВ №1': np.array([71.2, 69.2, 70.2, 70.9, 69.7])/100,\n",
    "          'ОВ №2': np.array([57.4, 59.3, 57.1, 58.1, 58.6])/100,\n",
    "         }\n",
    "\n",
    "plt.rcParams.update({'font.size': 15})\n",
    "plt.rcParams[\"font.family\"] = \"Times New Roman\"\n",
    "markers = ['^', 'o']\n",
    "colors = plt.cm.gray(np.linspace(0., 0.6 , 2))\n",
    "\n",
    "pylab.figure(1)\n",
    "pylab.figure(figsize=(12, 8))\n",
    "pylab.xlabel('Порядковый номер эксперимента', size=19)\n",
    "pylab.xticks(x)\n",
    "pylab.ylabel('Точность', size=19)\n",
    "pylab.grid()\n",
    "pylab.ylim(0.51, 0.75)\n",
    "# ax.tick_params(axis='both', which='major', labelsize=100)\n",
    "\n",
    "\n",
    "for i, model_name in enumerate(models_name):\n",
    "    print(f'Model name {models_name[model_name].mean()}')\n",
    "    pylab.plot(x, models_name[model_name], color=colors[i], label=model_name, marker=markers[i], linewidth=3, markersize=12)\n",
    "    \n",
    "pylab.legend(list(models_name.keys()), loc='lower right', prop={'size': 19})\n",
    "plt.savefig('../output/accuracy_dependece_final.png', dpi=200)\n",
    "plt.show();"
   ]
  },
  {
   "cell_type": "code",
   "execution_count": null,
   "metadata": {},
   "outputs": [],
   "source": []
  },
  {
   "cell_type": "code",
   "execution_count": null,
   "metadata": {},
   "outputs": [],
   "source": []
  },
  {
   "cell_type": "markdown",
   "metadata": {},
   "source": [
    "### Попробуем Нейронку полносвязную "
   ]
  },
  {
   "cell_type": "code",
   "execution_count": null,
   "metadata": {},
   "outputs": [],
   "source": [
    "from keras.models import Sequential \n",
    "from keras.layers import Dense, Flatten, Activation, Conv2D, MaxPooling2D, Dropout, BatchNormalization\n",
    "from keras.utils import np_utils\n",
    "from keras.optimizers import Adam\n",
    "\n",
    "from sklearn.feature_extraction import FeatureHasher\n",
    "\n",
    "import keras.backend as K\n",
    "from keras.optimizers import Adam\n",
    "from keras.losses import binary_crossentropy\n",
    "from keras.callbacks import ModelCheckpoint, LearningRateScheduler, EarlyStopping, ReduceLROnPlateau"
   ]
  },
  {
   "cell_type": "code",
   "execution_count": null,
   "metadata": {},
   "outputs": [],
   "source": [
    "# train data\n",
    "\n",
    "rcs_data = df.RCS.values\n",
    "rcs_data = np.array([rcs_data[idx:idx+50] for idx in range(len(rcs_data)//50)])\n",
    "\n",
    "id_data = df.Id_class.values\n",
    "id_data = np.array([id_data[idx] for idx in range(0, len(df), 50)])\n",
    "\n",
    "print(rcs_data.shape, id_data.shape)\n",
    "\n",
    "from keras.utils import to_categorical\n",
    "id_data_binary = to_categorical(id_data)\n",
    "x_train, x_test, y_train, y_test = train_test_split(rcs_data, id_data_binary, \n",
    "                                                    test_size=0.3, \n",
    "                                                    random_state=42)"
   ]
  },
  {
   "cell_type": "code",
   "execution_count": null,
   "metadata": {},
   "outputs": [],
   "source": [
    "input_shape = x_test.shape[1]\n",
    "size = x_test.shape[0]\n",
    "epochs = 100\n",
    "batch_size = 1000\n",
    "steps = 300"
   ]
  },
  {
   "cell_type": "code",
   "execution_count": null,
   "metadata": {},
   "outputs": [],
   "source": [
    "import threading\n",
    "\n",
    "class threadsafe_iter:\n",
    "    \"\"\"\n",
    "    Takes an iterator/generator and makes it thread-safe by\n",
    "    serializing call to the `next` method of given iterator/generator.\n",
    "    \"\"\"\n",
    "    def __init__(self, it):\n",
    "        self.it = it\n",
    "        self.lock = threading.Lock()\n",
    "\n",
    "    def __iter__(self):\n",
    "        return self\n",
    "\n",
    "    def __next__(self):\n",
    "        with self.lock:\n",
    "            return next(self.it)\n",
    "        \n",
    "def threadsafe_generator(f):\n",
    "    \"\"\"\n",
    "    A decorator that takes a generator function and makes it thread-safe.\n",
    "    \"\"\"\n",
    "    def g(*a, **kw):\n",
    "        return threadsafe_iter(f(*a, **kw))\n",
    "    return g"
   ]
  },
  {
   "cell_type": "code",
   "execution_count": null,
   "metadata": {},
   "outputs": [],
   "source": [
    "@threadsafe_generator\n",
    "def make_gen(in_df, batch_size):\n",
    "    out_arr = []\n",
    "    out_class = []\n",
    "    x, y = in_df\n",
    "    indexes = np.random.randint(0, len(x), batch_size)\n",
    "    while True:\n",
    "        for index in indexes:\n",
    "            out_arr.append(x[index])\n",
    "            out_class.append(y[index])\n",
    "            if len(out_arr) >= batch_size:\n",
    "                out_arr = np.array(out_arr)\n",
    "                out_class = np.array(out_class)\n",
    "                yield out_arr, out_class\n",
    "                out_arr = []\n",
    "                out_class = []"
   ]
  },
  {
   "cell_type": "code",
   "execution_count": null,
   "metadata": {},
   "outputs": [],
   "source": [
    "valid_x, valid_y = next(make_gen((x_test, y_test), 30))\n",
    "print(valid_x.shape, valid_y.shape)"
   ]
  },
  {
   "cell_type": "code",
   "execution_count": null,
   "metadata": {
    "scrolled": true
   },
   "outputs": [],
   "source": [
    "model = Sequential()\n",
    "model.add(Dense(16, input_dim=input_shape, kernel_initializer='normal'))\n",
    "model.add(Activation('relu'))\n",
    "model.add(BatchNormalization())\n",
    "model.add(Dropout(0.2))\n",
    "model.add(Dense(64, kernel_initializer='normal'))\n",
    "model.add(Activation('relu'))\n",
    "model.add(BatchNormalization())\n",
    "model.add(Dropout(0.2))\n",
    "\n",
    "model.add(BatchNormalization())\n",
    "model.add(Dense(128, kernel_initializer='normal'))\n",
    "model.add(Activation('relu'))\n",
    "model.add(BatchNormalization())\n",
    "model.add(Dropout(0.4))\n",
    "model.add(Dense(256, kernel_initializer='normal'))\n",
    "model.add(Activation('relu'))\n",
    "model.add(BatchNormalization())\n",
    "model.add(Dense(2))\n",
    "model.add(Activation('softmax'))\n",
    "\n",
    "opt = Adam(lr=1e-2, decay=1e-3)\n",
    "model.compile(optimizer=opt, loss='categorical_crossentropy', metrics=['accuracy'])"
   ]
  },
  {
   "cell_type": "code",
   "execution_count": null,
   "metadata": {},
   "outputs": [],
   "source": [
    "from keras.callbacks import Callback\n",
    "class TestCallback(Callback):\n",
    "    def __init__(self, test_data):\n",
    "        self.test_data = test_data\n",
    "        \n",
    "    def on_epoch_end(self, epoch, logs={}):\n",
    "        x, y = self.test_data\n",
    "        loss, dice_coef, acc, _ = self.model.evaluate(x, y, verbose=0)\n",
    "        print('\\n - Testing loss: {:.4f} - dice_coef: {:.4f} - acc: {:.4f}\\n'.format(loss, dice_coef, acc))\n",
    "\n",
    "class SGDRScheduler(Callback):\n",
    "    '''Cosine annealing learning rate scheduler with periodic restarts.\n",
    "    # Usage\n",
    "        ```python\n",
    "            schedule = SGDRScheduler(min_lr=1e-5,\n",
    "                                     max_lr=1e-2,\n",
    "                                     steps_per_epoch=np.ceil(epoch_size/batch_size),\n",
    "                                     lr_decay=0.9,\n",
    "                                     cycle_length=5,\n",
    "                                     mult_factor=1.5)\n",
    "            model.fit(X_train, Y_train, epochs=100, callbacks=[schedule])\n",
    "        ```\n",
    "    # Arguments\n",
    "        min_lr: The lower bound of the learning rate range for the experiment.\n",
    "        max_lr: The upper bound of the learning rate range for the experiment.\n",
    "        steps_per_epoch: Number of mini-batches in the dataset. Calculated as `np.ceil(epoch_size/batch_size)`. \n",
    "        lr_decay: Reduce the max_lr after the completion of each cycle.\n",
    "                  Ex. To reduce the max_lr by 20% after each cycle, set this value to 0.8.\n",
    "        cycle_length: Initial number of epochs in a cycle.\n",
    "        mult_factor: Scale epochs_to_restart after each full cycle completion.\n",
    "    # References\n",
    "        Blog post: jeremyjordan.me/nn-learning-rate\n",
    "        Original paper: http://arxiv.org/abs/1608.03983\n",
    "    '''\n",
    "    def __init__(self,\n",
    "                 min_lr,\n",
    "                 max_lr,\n",
    "                 steps_per_epoch,\n",
    "                 lr_decay=1,\n",
    "                 cycle_length=10,\n",
    "                 mult_factor=2):\n",
    "\n",
    "        self.min_lr = min_lr\n",
    "        self.max_lr = max_lr\n",
    "        self.lr_decay = lr_decay\n",
    "\n",
    "        self.batch_since_restart = 0\n",
    "        self.next_restart = cycle_length\n",
    "\n",
    "        self.steps_per_epoch = steps_per_epoch\n",
    "\n",
    "        self.cycle_length = cycle_length\n",
    "        self.mult_factor = mult_factor\n",
    "\n",
    "        self.history = {}\n",
    "\n",
    "    def clr(self):\n",
    "        '''Calculate the learning rate.'''\n",
    "        fraction_to_restart = self.batch_since_restart / (self.steps_per_epoch * self.cycle_length)\n",
    "        lr = self.min_lr + 0.5 * (self.max_lr - self.min_lr) * (1 + np.cos(fraction_to_restart * np.pi))\n",
    "        return lr\n",
    "\n",
    "    def on_train_begin(self, logs={}):\n",
    "        '''Initialize the learning rate to the minimum value at the start of training.'''\n",
    "        logs = logs or {}\n",
    "        K.set_value(self.model.optimizer.lr, self.max_lr)\n",
    "\n",
    "    def on_batch_end(self, batch, logs={}):\n",
    "        '''Record previous batch statistics and update the learning rate.'''\n",
    "        logs = logs or {}\n",
    "        self.history.setdefault('lr', []).append(K.get_value(self.model.optimizer.lr))\n",
    "        for k, v in logs.items():\n",
    "            self.history.setdefault(k, []).append(v)\n",
    "\n",
    "        self.batch_since_restart += 1\n",
    "        K.set_value(self.model.optimizer.lr, self.clr())\n",
    "\n",
    "    def on_epoch_end(self, epoch, logs={}):\n",
    "        '''Check for end of current cycle, apply restarts when necessary.'''\n",
    "        if epoch + 1 == self.next_restart:\n",
    "            self.batch_since_restart = 0\n",
    "            self.cycle_length = np.ceil(self.cycle_length * self.mult_factor)\n",
    "            self.next_restart += self.cycle_length\n",
    "            self.max_lr *= self.lr_decay\n",
    "            self.best_weights = self.model.get_weights()\n",
    "\n",
    "    def on_train_end(self, logs={}):\n",
    "        '''Set weights to the values from the end of the most recent cycle for best performance.'''\n",
    "        self.model.set_weights(self.best_weights)"
   ]
  },
  {
   "cell_type": "code",
   "execution_count": null,
   "metadata": {},
   "outputs": [],
   "source": [
    "import keras.backend as K\n",
    "from keras.optimizers import Adam\n",
    "from keras.losses import binary_crossentropy\n",
    "from keras.callbacks import ModelCheckpoint, LearningRateScheduler, EarlyStopping, ReduceLROnPlateau\n",
    "\n",
    "# weight_path=\"C:\\\\Users\\\\user\\\\Python_Code\\\\Kaggle\\\\Plane&Bird\\\\strong_weights_2.h5\"\n",
    "# weight_path = ''\n",
    "checkpoint = ModelCheckpoint(weight_path, monitor='val_acc', verbose=1, \n",
    "                             save_best_only=True, mode='max', save_weights_only=True)\n",
    "\n",
    "early = EarlyStopping(monitor=\"val_acc\", mode=\"max\", verbose=2, \n",
    "                      patience=10)\n",
    "\n",
    "schedule = SGDRScheduler(min_lr=1e-3, \n",
    "                         max_lr=1e-2,\n",
    "                         steps_per_epoch=np.ceil(100/50),\n",
    "                         lr_decay=0.9,\n",
    "                         cycle_length=10,\n",
    "                         mult_factor=1.5)\n",
    "\n",
    "\n",
    "callbacks_list = [\n",
    "    #checkpoint, \n",
    "    early, \n",
    "    schedule]\n",
    "\n",
    "gc.collect()"
   ]
  },
  {
   "cell_type": "code",
   "execution_count": null,
   "metadata": {},
   "outputs": [],
   "source": [
    "def reset_weights(model):\n",
    "    session = K.get_session()\n",
    "    for layer in model.layers: \n",
    "        if hasattr(layer, 'kernel_initializer'):\n",
    "            layer.kernel.initializer.run(session=session)\n",
    "            \n",
    "reset_weights(model)"
   ]
  },
  {
   "cell_type": "code",
   "execution_count": null,
   "metadata": {},
   "outputs": [],
   "source": [
    "train_gen = make_gen((x_train, y_train), batch_size=batch_size)\n",
    "val_gen = make_gen((x_test, y_test), batch_size=batch_size)\n",
    "\n",
    "history = model.fit_generator(train_gen, \n",
    "                              epochs=30, \n",
    "                              steps_per_epoch=100,\n",
    "                              validation_data=val_gen,\n",
    "                              validation_steps=30,\n",
    "                              callbacks=callbacks_list,\n",
    "                              workers=5,\n",
    "                              verbose=1)"
   ]
  },
  {
   "cell_type": "code",
   "execution_count": null,
   "metadata": {},
   "outputs": [],
   "source": []
  },
  {
   "cell_type": "code",
   "execution_count": null,
   "metadata": {},
   "outputs": [],
   "source": []
  }
 ],
 "metadata": {
  "kernelspec": {
   "display_name": "Python 3",
   "language": "python",
   "name": "python3"
  },
  "language_info": {
   "codemirror_mode": {
    "name": "ipython",
    "version": 3
   },
   "file_extension": ".py",
   "mimetype": "text/x-python",
   "name": "python",
   "nbconvert_exporter": "python",
   "pygments_lexer": "ipython3",
   "version": "3.7.7"
  },
  "latex_envs": {
   "LaTeX_envs_menu_present": true,
   "autoclose": false,
   "autocomplete": true,
   "bibliofile": "biblio.bib",
   "cite_by": "apalike",
   "current_citInitial": 1,
   "eqLabelWithNumbers": true,
   "eqNumInitial": 1,
   "hotkeys": {
    "equation": "Ctrl-E",
    "itemize": "Ctrl-I"
   },
   "labels_anchors": false,
   "latex_user_defs": false,
   "report_style_numbering": false,
   "user_envs_cfg": false
  }
 },
 "nbformat": 4,
 "nbformat_minor": 2
}
